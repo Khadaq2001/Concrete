{
 "cells": [
  {
   "cell_type": "code",
   "execution_count": 1,
   "metadata": {},
   "outputs": [],
   "source": [
    "import scanpy as sc\n",
    "import anndata as ad"
   ]
  },
  {
   "cell_type": "code",
   "execution_count": 2,
   "metadata": {},
   "outputs": [],
   "source": [
    "def anndata_load(file_path):\n",
    "    \"\"\"Load anndata, with file_path containing mtx file\"\"\"\n",
    "    adata = sc.read_10x_mtx(file_path, var_names='gene_symbols')\n",
    "    adata.var_names_make_unique()\n",
    "    return adata\n",
    "\n",
    "def anndata_preprocess(adata,\n",
    "                        min_genes = None,\n",
    "                        min_cells =None,\n",
    "                        n_top_genes = 10000):\n",
    "    \"\"\"Preprocess function\"\"\"\n",
    "    if min_genes is not None:\n",
    "        sc.pp.filter_cells(adata, min_genes=min_genes)\n",
    "    if min_cells is not None:\n",
    "        sc.pp.filter_genes(adata, min_cells=min_cells)\n",
    "    sc.pp.normalize_total(adata,target_sum=1e4)\n",
    "    sc.pp.log1p(adata)\n",
    "    #sc.pp.highly_variable_genes(adata, n_top_genes=n_top_genes)\n",
    "    #adata.raw = adata\n",
    "    #data = adata[:,adata.var.highly_variable]\n",
    "    return adata"
   ]
  },
  {
   "cell_type": "code",
   "execution_count": 3,
   "metadata": {},
   "outputs": [
    {
     "data": {
      "text/plain": [
       "(2700, 32738)"
      ]
     },
     "execution_count": 3,
     "metadata": {},
     "output_type": "execute_result"
    }
   ],
   "source": [
    "filepath = file_path = \"../../data/filtered_gene_bc_matrices/hg19/\"\n",
    "save_path = \"../../data/filtered_hg19.h5ad\"\n",
    "adata = anndata_load(filepath)\n",
    "adata.shape"
   ]
  },
  {
   "cell_type": "code",
   "execution_count": 4,
   "metadata": {},
   "outputs": [
    {
     "name": "stderr",
     "output_type": "stream",
     "text": [
      "/home/qinxianhan/.conda/envs/singleCell/lib/python3.9/site-packages/scanpy/preprocessing/_normalization.py:170: UserWarning: Received a view of an AnnData. Making a copy.\n",
      "  view_to_actual(adata)\n",
      "/home/qinxianhan/.conda/envs/singleCell/lib/python3.9/site-packages/scanpy/preprocessing/_highly_variable_genes.py:62: UserWarning: `flavor='seurat_v3'` expects raw count data, but non-integers were found.\n",
      "  warnings.warn(\n"
     ]
    }
   ],
   "source": [
    "sc.pp.filter_cells(adata, min_genes=200)\n",
    "sc.pp.filter_genes(adata, min_cells=3)\n",
    "adata.var['mt'] = adata.var_names.str.startswith('MT-')  # annotate the group of mitochondrial genes as 'mt'\n",
    "sc.pp.calculate_qc_metrics(adata, qc_vars=['mt'], percent_top=None, log1p=False, inplace=True)\n",
    "adata = adata[adata.obs.n_genes_by_counts < 2500, :]\n",
    "adata = adata[adata.obs.pct_counts_mt < 5, :]\n",
    "sc.pp.normalize_total(adata, target_sum=1e4)\n",
    "sc.pp.log1p(adata)\n",
    "sc.pp.highly_variable_genes(adata, n_top_genes=3000,flavor='seurat_v3')"
   ]
  },
  {
   "cell_type": "code",
   "execution_count": 5,
   "metadata": {},
   "outputs": [],
   "source": [
    "adata.raw = adata\n",
    "adata = adata[:, adata.var.highly_variable]"
   ]
  },
  {
   "cell_type": "code",
   "execution_count": 6,
   "metadata": {},
   "outputs": [
    {
     "data": {
      "text/plain": [
       "(2638, 3000)"
      ]
     },
     "execution_count": 6,
     "metadata": {},
     "output_type": "execute_result"
    }
   ],
   "source": [
    "adata.shape"
   ]
  },
  {
   "cell_type": "code",
   "execution_count": 62,
   "metadata": {},
   "outputs": [],
   "source": [
    "adata.write(save_path)"
   ]
  },
  {
   "cell_type": "code",
   "execution_count": 7,
   "metadata": {},
   "outputs": [],
   "source": [
    "tr_adata = sc.read(\"../../pbmc_tutorial/write/pbmc3k.h5ad\")"
   ]
  },
  {
   "cell_type": "code",
   "execution_count": 8,
   "metadata": {},
   "outputs": [
    {
     "data": {
      "text/plain": [
       "AAACATACAACCAC-1    3\n",
       "AAACATTGAGCTAC-1    2\n",
       "AAACATTGATCAGC-1    0\n",
       "AAACCGTGCTTCCG-1    4\n",
       "AAACCGTGTATGCG-1    5\n",
       "                   ..\n",
       "TTTCGAACTCTCAT-1    1\n",
       "TTTCTACTGAGGCA-1    2\n",
       "TTTCTACTTCCTCG-1    2\n",
       "TTTGCATGAGAGGC-1    2\n",
       "TTTGCATGCCTCAC-1    0\n",
       "Name: leiden, Length: 2638, dtype: category\n",
       "Categories (8, object): ['0', '1', '2', '3', '4', '5', '6', '7']"
      ]
     },
     "execution_count": 8,
     "metadata": {},
     "output_type": "execute_result"
    }
   ],
   "source": [
    "tr_adata.obs['leiden']"
   ]
  },
  {
   "cell_type": "code",
   "execution_count": 9,
   "metadata": {},
   "outputs": [
    {
     "name": "stderr",
     "output_type": "stream",
     "text": [
      "/tmp/ipykernel_122550/2806547231.py:1: ImplicitModificationWarning: Trying to modify attribute `.obs` of view, initializing view as actual.\n",
      "  adata.obs['leiden'] = tr_adata.obs['leiden']\n"
     ]
    }
   ],
   "source": [
    "adata.obs['leiden'] = tr_adata.obs['leiden']"
   ]
  },
  {
   "cell_type": "code",
   "execution_count": null,
   "metadata": {},
   "outputs": [],
   "source": [
    "adata.obs['leiden']"
   ]
  },
  {
   "cell_type": "code",
   "execution_count": null,
   "metadata": {},
   "outputs": [],
   "source": []
  }
 ],
 "metadata": {
  "kernelspec": {
   "display_name": "singleCell",
   "language": "python",
   "name": "python3"
  },
  "language_info": {
   "codemirror_mode": {
    "name": "ipython",
    "version": 3
   },
   "file_extension": ".py",
   "mimetype": "text/x-python",
   "name": "python",
   "nbconvert_exporter": "python",
   "pygments_lexer": "ipython3",
   "version": "3.9.16"
  },
  "orig_nbformat": 4
 },
 "nbformat": 4,
 "nbformat_minor": 2
}
