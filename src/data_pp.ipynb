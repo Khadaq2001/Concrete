{
 "cells": [
  {
   "cell_type": "code",
   "execution_count": 1,
   "metadata": {},
   "outputs": [],
   "source": [
    "import scanpy as sc\n",
    "import anndata as ad"
   ]
  },
  {
   "cell_type": "code",
   "execution_count": 2,
   "metadata": {},
   "outputs": [],
   "source": [
    "\n",
    "def anndata_load(file_path):\n",
    "    \"\"\"Load anndata, with file_path containing mtx file\"\"\"\n",
    "    adata = sc.read_10x_mtx(file_path, var_names='gene_symbols')\n",
    "    adata.var_names_make_unique()\n",
    "    return adata\n",
    "\n",
    "def anndata_preprocess(adata,\n",
    "                        min_genes = 200,\n",
    "                        min_cells = 3,\n",
    "                        n_top_genes = 2000):\n",
    "    \"\"\"Preprocess function\"\"\"\n",
    "    if min_genes is not None:\n",
    "        sc.pp.filter_cells(adata, min_genes=min_genes)\n",
    "    if min_cells is not None:\n",
    "        sc.pp.filter_genes(adata, min_cells=min_cells)\n",
    "    sc.pp.normalize_total(adata,target_sum=1e4)\n",
    "    sc.pp.log1p(adata)\n",
    "    sc.pp.highly_variable_genes(adata, n_top_genes=n_top_genes)\n",
    "    adata.raw = adata\n",
    "    adata = adata[:,adata.var.highly_variable]\n",
    "    return adata"
   ]
  },
  {
   "cell_type": "code",
   "execution_count": 5,
   "metadata": {},
   "outputs": [
    {
     "data": {
      "text/plain": [
       "(2700, 32738)"
      ]
     },
     "execution_count": 5,
     "metadata": {},
     "output_type": "execute_result"
    }
   ],
   "source": [
    "filepath = file_path = \"../../data/filtered_gene_bc_matrices/hg19/\"\n",
    "save_path = \"../../data/filtered_hg19.h5ad\"\n",
    "adata = anndata_load(filepath)\n",
    "adata.shape"
   ]
  },
  {
   "cell_type": "code",
   "execution_count": 6,
   "metadata": {},
   "outputs": [
    {
     "data": {
      "text/plain": [
       "(2700, 2000)"
      ]
     },
     "execution_count": 6,
     "metadata": {},
     "output_type": "execute_result"
    }
   ],
   "source": [
    "adata = anndata_preprocess(adata, n_top_genes=2000)\n",
    "adata.shape"
   ]
  },
  {
   "cell_type": "code",
   "execution_count": 7,
   "metadata": {},
   "outputs": [],
   "source": [
    "adata.write(save_path)"
   ]
  },
  {
   "cell_type": "code",
   "execution_count": null,
   "metadata": {},
   "outputs": [],
   "source": []
  }
 ],
 "metadata": {
  "kernelspec": {
   "display_name": "singleCell",
   "language": "python",
   "name": "python3"
  },
  "language_info": {
   "codemirror_mode": {
    "name": "ipython",
    "version": 3
   },
   "file_extension": ".py",
   "mimetype": "text/x-python",
   "name": "python",
   "nbconvert_exporter": "python",
   "pygments_lexer": "ipython3",
   "version": "3.9.16"
  },
  "orig_nbformat": 4
 },
 "nbformat": 4,
 "nbformat_minor": 2
}
