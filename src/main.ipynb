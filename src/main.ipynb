{
 "cells": [
  {
   "cell_type": "code",
   "execution_count": 1,
   "metadata": {},
   "outputs": [
    {
     "name": "stderr",
     "output_type": "stream",
     "text": [
      "/home/qinxianhan/.conda/envs/singleCell/lib/python3.9/site-packages/tqdm/auto.py:22: TqdmWarning: IProgress not found. Please update jupyter and ipywidgets. See https://ipywidgets.readthedocs.io/en/stable/user_install.html\n",
      "  from .autonotebook import tqdm as notebook_tqdm\n"
     ]
    }
   ],
   "source": [
    "import torch\n",
    "import utils\n",
    "import time\n",
    "from torch import nn\n",
    "from torch.utils import data\n",
    "from concreteNet import ConcreteAutoencoder"
   ]
  },
  {
   "cell_type": "code",
   "execution_count": 2,
   "metadata": {},
   "outputs": [],
   "source": [
    "file_path = \"../../data/filtered_gene_bc_matrices/hg19\"\n",
    "device = utils.get_device()\n",
    "#device = torch.device(\"cpu\")"
   ]
  },
  {
   "cell_type": "code",
   "execution_count": 3,
   "metadata": {},
   "outputs": [
    {
     "data": {
      "text/plain": [
       "(2700, 5000)"
      ]
     },
     "execution_count": 3,
     "metadata": {},
     "output_type": "execute_result"
    }
   ],
   "source": [
    "adata = utils.anndata_load(file_path)\n",
    "adata = utils.anndata_preprocess(adata)\n",
    "adata.shape"
   ]
  },
  {
   "cell_type": "code",
   "execution_count": 4,
   "metadata": {},
   "outputs": [],
   "source": [
    "def train(net, loss, dataloader, num_epoch, learning_rate, weight_decay, device):\n",
    "    net = net.to(device)\n",
    "    optimizer = torch.optim.Adam(net.parameters(), lr = learning_rate, weight_decay=weight_decay)\n",
    "    start_time  = time.time()\n",
    "    net.train()\n",
    "    for epoch in range(num_epoch):\n",
    "        train_loss = 0\n",
    "        for data in dataloader:\n",
    "            input = data.to(device, non_blocking = True)\n",
    "            optimizer.zero_grad()\n",
    "            reconstruction, _ = net(input)\n",
    "            l = loss(reconstruction, input)\n",
    "            l.backward()\n",
    "            optimizer.step()\n",
    "            train_loss += l\n",
    "        process_time = time.time() - start_time\n",
    "        train_loss /= len(dataloader)\n",
    "        print(\"Epoch: %d ; Loss %.5f; Time: %.2f s\" %(epoch, train_loss, process_time))\n"
   ]
  },
  {
   "cell_type": "code",
   "execution_count": 5,
   "metadata": {},
   "outputs": [],
   "source": [
    "def get_net(input_dim, k, hidden_dim,device, temperature):\n",
    "    return ConcreteAutoencoder(input_dim, k,hidden_dim,device, temperature)\n",
    "def load_adata(adata, batch_size):\n",
    "    return utils.data_loader(adata, batch_size)"
   ]
  },
  {
   "cell_type": "code",
   "execution_count": 6,
   "metadata": {},
   "outputs": [],
   "source": [
    "num_epoch, learning_rate, weight_dacay, batch_size, temperature = 64, 0.1, 0, 128, 0.1\n",
    "input_dim = adata.n_vars\n",
    "loss = nn.MSELoss()\n",
    "net = get_net(input_dim=input_dim, k=1000,hidden_dim=128,device=device, temperature=temperature)\n",
    "dataloader=load_adata(adata=adata, batch_size=batch_size)"
   ]
  },
  {
   "cell_type": "code",
   "execution_count": 7,
   "metadata": {},
   "outputs": [
    {
     "name": "stdout",
     "output_type": "stream",
     "text": [
      "Epoch: 0 ; Loss 0.26548; Time: 1.81 s\n",
      "Epoch: 1 ; Loss 0.25605; Time: 2.57 s\n",
      "Epoch: 2 ; Loss 0.25623; Time: 3.32 s\n",
      "Epoch: 3 ; Loss 0.25581; Time: 4.10 s\n",
      "Epoch: 4 ; Loss 0.25633; Time: 4.91 s\n",
      "Epoch: 5 ; Loss 0.25601; Time: 5.74 s\n",
      "Epoch: 6 ; Loss 0.25604; Time: 6.48 s\n",
      "Epoch: 7 ; Loss 0.25628; Time: 7.23 s\n",
      "Epoch: 8 ; Loss 0.25690; Time: 7.97 s\n",
      "Epoch: 9 ; Loss 0.25637; Time: 8.77 s\n",
      "Epoch: 10 ; Loss 0.25667; Time: 9.62 s\n",
      "Epoch: 11 ; Loss 0.25675; Time: 10.43 s\n",
      "Epoch: 12 ; Loss 0.25588; Time: 11.23 s\n",
      "Epoch: 13 ; Loss 0.25640; Time: 12.02 s\n",
      "Epoch: 14 ; Loss 0.25643; Time: 12.84 s\n",
      "Epoch: 15 ; Loss 0.25680; Time: 13.69 s\n",
      "Epoch: 16 ; Loss 0.25633; Time: 14.53 s\n",
      "Epoch: 17 ; Loss 0.25619; Time: 15.38 s\n",
      "Epoch: 18 ; Loss 0.25568; Time: 16.20 s\n",
      "Epoch: 19 ; Loss 0.25616; Time: 16.95 s\n",
      "Epoch: 20 ; Loss 0.25617; Time: 17.78 s\n",
      "Epoch: 21 ; Loss 0.25645; Time: 18.61 s\n",
      "Epoch: 22 ; Loss 0.25647; Time: 19.43 s\n",
      "Epoch: 23 ; Loss 0.25658; Time: 20.21 s\n",
      "Epoch: 24 ; Loss 0.25594; Time: 21.02 s\n",
      "Epoch: 25 ; Loss 0.25605; Time: 21.78 s\n",
      "Epoch: 26 ; Loss 0.25594; Time: 22.60 s\n",
      "Epoch: 27 ; Loss 0.25620; Time: 23.44 s\n",
      "Epoch: 28 ; Loss 0.25627; Time: 24.29 s\n",
      "Epoch: 29 ; Loss 0.25678; Time: 25.07 s\n",
      "Epoch: 30 ; Loss 0.25710; Time: 25.89 s\n",
      "Epoch: 31 ; Loss 0.25652; Time: 26.75 s\n",
      "Epoch: 32 ; Loss 0.25612; Time: 27.54 s\n",
      "Epoch: 33 ; Loss 0.25624; Time: 28.43 s\n",
      "Epoch: 34 ; Loss 0.25654; Time: 29.29 s\n",
      "Epoch: 35 ; Loss 0.25620; Time: 30.13 s\n",
      "Epoch: 36 ; Loss 0.25686; Time: 30.98 s\n",
      "Epoch: 37 ; Loss 0.25558; Time: 31.85 s\n",
      "Epoch: 38 ; Loss 0.25644; Time: 32.71 s\n",
      "Epoch: 39 ; Loss 0.25614; Time: 33.61 s\n",
      "Epoch: 40 ; Loss 0.25597; Time: 34.40 s\n",
      "Epoch: 41 ; Loss 0.25584; Time: 35.21 s\n",
      "Epoch: 42 ; Loss 0.25579; Time: 36.00 s\n",
      "Epoch: 43 ; Loss 0.25614; Time: 36.81 s\n",
      "Epoch: 44 ; Loss 0.25643; Time: 37.59 s\n",
      "Epoch: 45 ; Loss 0.25591; Time: 38.37 s\n",
      "Epoch: 46 ; Loss 0.25608; Time: 39.14 s\n",
      "Epoch: 47 ; Loss 0.25570; Time: 39.91 s\n",
      "Epoch: 48 ; Loss 0.25582; Time: 40.69 s\n",
      "Epoch: 49 ; Loss 0.25595; Time: 41.47 s\n",
      "Epoch: 50 ; Loss 0.25644; Time: 42.24 s\n",
      "Epoch: 51 ; Loss 0.25632; Time: 43.01 s\n",
      "Epoch: 52 ; Loss 0.25631; Time: 43.78 s\n",
      "Epoch: 53 ; Loss 0.25636; Time: 44.54 s\n",
      "Epoch: 54 ; Loss 0.25615; Time: 45.40 s\n",
      "Epoch: 55 ; Loss 0.25578; Time: 46.24 s\n",
      "Epoch: 56 ; Loss 0.25666; Time: 47.15 s\n",
      "Epoch: 57 ; Loss 0.25638; Time: 47.99 s\n",
      "Epoch: 58 ; Loss 0.25637; Time: 48.86 s\n",
      "Epoch: 59 ; Loss 0.25618; Time: 49.65 s\n",
      "Epoch: 60 ; Loss 0.25627; Time: 50.52 s\n",
      "Epoch: 61 ; Loss 0.25632; Time: 51.30 s\n",
      "Epoch: 62 ; Loss 0.25612; Time: 52.04 s\n",
      "Epoch: 63 ; Loss 0.25619; Time: 52.86 s\n"
     ]
    }
   ],
   "source": [
    "train(net=net, loss=loss, dataloader=dataloader,\n",
    "      num_epoch=num_epoch, learning_rate=learning_rate,\n",
    "      weight_decay=weight_dacay, device=device)\n"
   ]
  },
  {
   "cell_type": "code",
   "execution_count": null,
   "metadata": {},
   "outputs": [],
   "source": [
    "\n"
   ]
  },
  {
   "cell_type": "code",
   "execution_count": null,
   "metadata": {},
   "outputs": [],
   "source": []
  }
 ],
 "metadata": {
  "kernelspec": {
   "display_name": "singleCell",
   "language": "python",
   "name": "python3"
  },
  "language_info": {
   "codemirror_mode": {
    "name": "ipython",
    "version": 3
   },
   "file_extension": ".py",
   "mimetype": "text/x-python",
   "name": "python",
   "nbconvert_exporter": "python",
   "pygments_lexer": "ipython3",
   "version": "3.9.16"
  },
  "orig_nbformat": 4,
  "vscode": {
   "interpreter": {
    "hash": "d7b03ce8c7a30be49e5d195a686dd6d87b82d3273e605bd24af2c40167f57d0f"
   }
  }
 },
 "nbformat": 4,
 "nbformat_minor": 2
}
