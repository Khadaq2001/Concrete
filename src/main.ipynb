{
 "cells": [
  {
   "cell_type": "code",
   "execution_count": 1,
   "metadata": {},
   "outputs": [
    {
     "name": "stderr",
     "output_type": "stream",
     "text": [
      "/home/qinxianhan/.conda/envs/singleCell/lib/python3.9/site-packages/tqdm/auto.py:22: TqdmWarning: IProgress not found. Please update jupyter and ipywidgets. See https://ipywidgets.readthedocs.io/en/stable/user_install.html\n",
      "  from .autonotebook import tqdm as notebook_tqdm\n"
     ]
    }
   ],
   "source": [
    "import torch\n",
    "import utils\n",
    "import time\n",
    "from torch import nn\n",
    "from torch.utils import data\n",
    "from concreteNet import ConcreteAutoencoder"
   ]
  },
  {
   "cell_type": "code",
   "execution_count": 2,
   "metadata": {},
   "outputs": [],
   "source": [
    "file_path = \"../data/filtered_gene_bc_matrices/hg19\"\n",
    "device = utils.get_device()"
   ]
  },
  {
   "cell_type": "code",
   "execution_count": 3,
   "metadata": {},
   "outputs": [],
   "source": [
    "adata = utils.anndata_load(file_path)\n",
    "adata = utils.anndata_preprocess(adata)"
   ]
  },
  {
   "cell_type": "code",
   "execution_count": 4,
   "metadata": {},
   "outputs": [
    {
     "data": {
      "text/plain": [
       "(2700, 13714)"
      ]
     },
     "execution_count": 4,
     "metadata": {},
     "output_type": "execute_result"
    }
   ],
   "source": [
    "adata.shape"
   ]
  },
  {
   "cell_type": "code",
   "execution_count": 5,
   "metadata": {},
   "outputs": [],
   "source": [
    "def train(net, loss, dataloader, num_epoch, learning_rate, weight_decay, device):\n",
    "    net = net.to(device)\n",
    "    optimizer = torch.optim.Adam(net.parameters(), lr = learning_rate, weight_decay=weight_decay)\n",
    "    start_time  = time.time()\n",
    "    net.train()\n",
    "    for epoch in range(num_epoch):\n",
    "        train_loss = 0\n",
    "        for data in dataloader:\n",
    "            input = data.X.to(device, non_block = True)\n",
    "            optimizer.zero_grad()\n",
    "            l = loss(net(input), input)\n",
    "            l.backward()\n",
    "            optimizer.step()\n",
    "            train_loss += l\n",
    "        process_time = time.time() - start_time\n",
    "        train_loss /= len(dataloader)\n",
    "        print(f\"Epoch: {epoch}; Loss {train_loss}; Time: {process_time} s\")\n"
   ]
  },
  {
   "cell_type": "code",
   "execution_count": 6,
   "metadata": {},
   "outputs": [],
   "source": [
    "def get_net(input_dim, hidden_dim, k, temperature):\n",
    "    return ConcreteAutoencoder(input_dim, hidden_dim, k, temperature)\n",
    "def load_adata(adata, batch_size):\n",
    "    return utils.data_loader(adata, batch_size)"
   ]
  },
  {
   "cell_type": "code",
   "execution_count": null,
   "metadata": {},
   "outputs": [],
   "source": [
    "num_epoch, learning_rate, weight_dacay, batch_size, temperature = 128, 0.1, 0, 128, 0.1\n",
    "input_dim = adata.n_vars\n",
    "loss = nn.MSELoss()\n",
    "net = get_net(input_dim=input_dim, hidden_dim=128, k=1000, temperature=temperature)"
   ]
  },
  {
   "cell_type": "code",
   "execution_count": null,
   "metadata": {},
   "outputs": [],
   "source": [
    "dataloader=load_adata(adata=adata, batch_size=batch_size)"
   ]
  },
  {
   "cell_type": "code",
   "execution_count": null,
   "metadata": {},
   "outputs": [],
   "source": [
    "train(net)"
   ]
  },
  {
   "cell_type": "code",
   "execution_count": null,
   "metadata": {},
   "outputs": [],
   "source": []
  }
 ],
 "metadata": {
  "kernelspec": {
   "display_name": "singleCell",
   "language": "python",
   "name": "python3"
  },
  "language_info": {
   "codemirror_mode": {
    "name": "ipython",
    "version": 3
   },
   "file_extension": ".py",
   "mimetype": "text/x-python",
   "name": "python",
   "nbconvert_exporter": "python",
   "pygments_lexer": "ipython3",
   "version": "3.9.16"
  },
  "orig_nbformat": 4,
  "vscode": {
   "interpreter": {
    "hash": "d7b03ce8c7a30be49e5d195a686dd6d87b82d3273e605bd24af2c40167f57d0f"
   }
  }
 },
 "nbformat": 4,
 "nbformat_minor": 2
}
